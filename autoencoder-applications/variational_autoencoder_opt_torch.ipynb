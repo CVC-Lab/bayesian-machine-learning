{
 "cells": [
  {
   "cell_type": "markdown",
   "metadata": {},
   "source": [
    "# Conditional generation via Bayesian optimization in latent space\n",
    "\n",
    "## Introduction\n",
    "\n",
    "I recently read [Automatic Chemical Design Using a Data-Driven Continuous Representation of Molecules](https://arxiv.org/abs/1610.02415) by Gómez-Bombarelli et. al.<sup>[1]</sup> and it motivated me to experiment with the approaches described in the paper. \n",
    "\n",
    "Here's a brief summary of the paper. It describes how they use a variational autoencoder<sup>[2]</sup> for generating new chemical compounds with properties that are of interest for drug discovery. For training, they used a large database of chemical compounds whose properties of interest are known. The variational autoencoder can encode compounds into 196-dimensional latent space representations.\n",
    "\n",
    "By sampling from the continuous latent space new compounds can be generated e.g. by sampling near a known compound to generate slight variations of it or by interpolating between more distant compounds. By simply autoencoding chemical compounds, however, they were not able organize latent space w.r.t. properties of interest.\n",
    "\n",
    "To additionally organize latent space w.r.t. these properties they jointly trained the variational autoencoder with a predictor that predicts these properties from latent space representations. Joint training with a predictor resulted in a latent space that reveals a gradient of these properties. This gradient can then be used to drive search for new chemical compounds into regions of desired properties. The following figure, copied from the paper<sup>[1]</sup>, summarizes the approach.\n",
    "\n",
    "![vae-chem](images/vae-opt/vae-chem.png)\n",
    "\n",
    "For representing compounds in structure space, they use [SMILES](https://en.wikipedia.org/wiki/Simplified_molecular-input_line-entry_system) strings which can be converted to and from structural representations using standard computational chemistry software. For the encoder network, they experimented with both, 1D-CNNs and RNNs, for the decoder network they used a RNN. Architecure details are described in the paper. The predictor is a small dense neural network. For optimization in latent space i.e. for navigating into regions of desired properties they use a Bayesian optimization approach with Gaussian processes as surrogate model. \n",
    "\n",
    "The authors open-sourced their [chemical variational autoencoder](https://github.com/aspuru-guzik-group/chemical_vae) but didn't publish code related to Bayesian optimization, at least not at the time of writing this article. So I decided to start some experiments but on a toy dataset that is not related to chemistry at all: the [MNIST handwritten digits dataset](https://en.wikipedia.org/wiki/MNIST_database). All methods described in the paper can be applied in this context too and results are easier to visualize and probably easier to grasp for people not familiar with chemistry. The only property associated with the MNIST dataset is the label or value of the digits. \n",
    "\n",
    "In the following, it will be shown how to conditionally generate new digits by following a gradient in latent space. In other words, it will be shown how to navigate into regions of latent space that decode into digit images of desired target label. I'm also going to adress the following questions:\n",
    "\n",
    "- How does joint training with a predictor change the latent space of a variational autoencoder?\n",
    "- How can useful optimization objectives be designed?\n",
    "- How can application of Bayesian optimization methods be justified?\n",
    "- What are possible alternatives to this approach? \n",
    "\n",
    "I'll leave experiments with the chemical compounds dataset and the public chemical VAE for another article. The following assumes some basic familiarity with [variational autoencoders](https://nbviewer.jupyter.org/github/krasserm/bayesian-machine-learning/blob/dev/autoencoder-applications/variational_autoencoder.ipynb), [Bayesian otpimization](http://nbviewer.jupyter.org/github/krasserm/bayesian-machine-learning/blob/dev/bayesian-optimization/bayesian_optimization.ipynb) and [Gaussian processes](http://nbviewer.jupyter.org/github/krasserm/bayesian-machine-learning/blob/dev/gaussian-processes/gaussian_processes.ipynb). For more information on these topics you may want to read the linked articles."
   ]
  },
  {
   "cell_type": "markdown",
   "metadata": {},
   "source": [
    "## Architecture\n",
    "\n",
    "The high-level architecture of the joint VAE-predictor model is shown in the following figure.\n",
    "\n",
    "![model](images/vae-opt/model.png)\n",
    "\n",
    "### Encoder\n",
    "\n",
    "The encoder is a CNN, identical to the one presented in the the [variational autoencoder](https://nbviewer.jupyter.org/github/krasserm/bayesian-machine-learning/blob/dev/autoencoder-applications/variational_autoencoder.ipynb) notebook.\n",
    "\n",
    "![encoder](images/vae-opt/encoder.png) \n",
    "\n",
    "### Decoder\n",
    "\n",
    "The decoder is a CNN, identical to the one presented in the the [variational autoencoder](https://nbviewer.jupyter.org/github/krasserm/bayesian-machine-learning/blob/dev/autoencoder-applications/variational_autoencoder.ipynb) notebook.\n",
    "\n",
    "![decoder](images/vae-opt/decoder.png)\n",
    "\n",
    "### Predictor\n",
    "\n",
    "The predictor is a dense network with two hidden layers that predicts the probabilities of MNIST image labels 0-9 from the mean i.e. `t_mean` of the variational Gaussian distribution (details below). `t_mean` is one of the encoder outputs. The output layer of the predictor is a softmax layer with 10 units.\n",
    "\n",
    "![predictor](images/vae-opt/predictor.png)"
   ]
  },
  {
   "cell_type": "markdown",
   "metadata": {},
   "source": [
    "## Implementation\n",
    "\n",
    "We will use a 2-dimensional latent space for easier visualization. By default, this notebook loads pre-trained models. If you want to train the models yourself set `use_pretrained` to `False`. Expects about 15 minutes on a GPU for training and much longer on a CPU."
   ]
  },
  {
   "cell_type": "code",
   "execution_count": 10,
   "metadata": {},
   "outputs": [],
   "source": [
    "# Use pre-trained models by default\n",
    "use_pretrained = False\n",
    "\n",
    "# Dimensionality of latent space\n",
    "latent_dim = 2\n",
    "\n",
    "# Mini-batch size used for training\n",
    "batch_size = 64"
   ]
  },
  {
   "cell_type": "markdown",
   "metadata": {},
   "source": [
    "Code for the encoder and decoder have already been presented [elsewhere](https://nbviewer.jupyter.org/github/krasserm/bayesian-machine-learning/blob/dev/autoencoder-applications/variational_autoencoder.ipynb), so only code for the predictor is shown here (see [variational_autoencoder_opt_util.py](variational_autoencoder_opt_util.py) for other function definitions):"
   ]
  },
  {
   "cell_type": "code",
   "execution_count": 11,
   "metadata": {},
   "outputs": [],
   "source": [
    "import torch\n",
    "import torch.nn as nn\n",
    "\n",
    "class Predictor(nn.Module):\n",
    "    def __init__(self, latent_dim):\n",
    "        super(Predictor, self).__init__()\n",
    "        \n",
    "        self.latent_dim = latent_dim\n",
    "        self.fc1 = nn.Linear(latent_dim, 128)\n",
    "        self.fc2 = nn.Linear(128, 128)\n",
    "        self.fc3 = nn.Linear(128, 10)\n",
    "        self.softmax = nn.Softmax(dim=1)\n",
    "    \n",
    "    def forward(self, x):\n",
    "        x = torch.relu(self.fc1(x))\n",
    "        x = torch.relu(self.fc2(x))\n",
    "        x = self.fc3(x)\n",
    "        x = self.softmax(x)\n",
    "        return x"
   ]
  },
  {
   "cell_type": "markdown",
   "metadata": {},
   "source": [
    "The following composes the joint VAE-predictor model. Note that input to the predictor is the mean i.e. `t_mean` of the variational distribution, not a sample from it."
   ]
  },
  {
   "cell_type": "code",
   "execution_count": 12,
   "metadata": {},
   "outputs": [],
   "source": [
    "from variational_autoencoder_opt_util import *\n",
    "\n",
    "encoder = Encoder(latent_dim)\n",
    "decoder = Decoder(latent_dim)\n",
    "sampler = SampleFromVariationalDistribution()\n",
    "predictor = Predictor(latent_dim)\n",
    "\n",
    "\n",
    "class Model(nn.Module):\n",
    "    def __init__(self, encoder, decoder, sampler, predictor):\n",
    "        super(Model, self).__init__()\n",
    "        self.encoder = encoder\n",
    "        self.decoder = decoder\n",
    "        self.sampler = sampler\n",
    "        self.predictor = predictor\n",
    "    \n",
    "    def forward(self, x):\n",
    "        t_mean, t_log_var = self.encoder(x)\n",
    "        t = self.sampler(t_mean, t_log_var)\n",
    "        t_decoded = self.decoder(t)\n",
    "        t_predicted = self.predictor(t_mean)\n",
    "        return t_decoded, t_predicted\n",
    "\n",
    "model = Model(encoder, decoder, sampler, predictor)"
   ]
  },
  {
   "cell_type": "markdown",
   "metadata": {},
   "source": [
    "## Dataset"
   ]
  },
  {
   "cell_type": "code",
   "execution_count": 13,
   "metadata": {},
   "outputs": [],
   "source": [
    "import torchvision\n",
    "from torchvision import transforms\n",
    "from torch.utils.data import DataLoader, Dataset\n",
    "\n",
    "# Define transformations\n",
    "transform = transforms.Compose([\n",
    "    transforms.ToTensor(),\n",
    "    transforms.Normalize((0.5,), (0.5,))\n",
    "])\n",
    "\n",
    "# Load MNIST dataset\n",
    "train_dataset = torchvision.datasets.MNIST(root='./data', train=True, transform=transform, download=True)\n",
    "test_dataset = torchvision.datasets.MNIST(root='./data', train=False, transform=transform, download=True)\n",
    "\n",
    "# Create data loaders\n",
    "batch_size = 64\n",
    "train_loader = DataLoader(train_dataset, batch_size=batch_size, shuffle=True)\n",
    "test_loader = DataLoader(test_dataset, batch_size=batch_size, shuffle=False)"
   ]
  },
  {
   "cell_type": "markdown",
   "metadata": {},
   "source": [
    "## Training"
   ]
  },
  {
   "cell_type": "code",
   "execution_count": 15,
   "metadata": {},
   "outputs": [
    {
     "name": "stdout",
     "output_type": "stream",
     "text": [
      "Epoch 1/2\n"
     ]
    },
    {
     "ename": "TypeError",
     "evalue": "in user code:\n\n    File \"/Users/CVC/anaconda3/envs/bml/lib/python3.10/site-packages/keras/src/engine/training.py\", line 1338, in train_function  *\n        return step_function(self, iterator)\n    File \"/Users/CVC/anaconda3/envs/bml/lib/python3.10/site-packages/keras/src/engine/training.py\", line 1322, in step_function  **\n        outputs = model.distribute_strategy.run(run_step, args=(data,))\n    File \"/Users/CVC/anaconda3/envs/bml/lib/python3.10/site-packages/keras/src/engine/training.py\", line 1303, in run_step  **\n        outputs = model.train_step(data)\n    File \"/Users/CVC/anaconda3/envs/bml/lib/python3.10/site-packages/keras/src/engine/training.py\", line 1081, in train_step\n        loss = self.compute_loss(x, y, y_pred, sample_weight)\n    File \"/Users/CVC/anaconda3/envs/bml/lib/python3.10/site-packages/keras/src/engine/training.py\", line 1139, in compute_loss\n        return self.compiled_loss(\n    File \"/Users/CVC/anaconda3/envs/bml/lib/python3.10/site-packages/keras/src/engine/compile_utils.py\", line 282, in __call__\n        metric_obj.update_state(\n    File \"/Users/CVC/anaconda3/envs/bml/lib/python3.10/site-packages/keras/src/utils/metrics_utils.py\", line 77, in decorated\n        update_op = update_state_fn(*args, **kwargs)\n    File \"/Users/CVC/anaconda3/envs/bml/lib/python3.10/site-packages/keras/src/metrics/base_metric.py\", line 140, in update_state_fn\n        return ag_update_state(*args, **kwargs)\n    File \"/Users/CVC/anaconda3/envs/bml/lib/python3.10/site-packages/keras/src/metrics/base_metric.py\", line 509, in update_state  **\n        sample_weight = tf.__internal__.ops.broadcast_weights(\n    File \"/Users/CVC/anaconda3/envs/bml/lib/python3.10/site-packages/keras/src/engine/keras_tensor.py\", line 285, in __array__\n        raise TypeError(\n\n    TypeError: You are passing KerasTensor(type_spec=TensorSpec(shape=(), dtype=tf.float32, name=None), name='Placeholder:0', description=\"created by layer 'tf.cast_3'\"), an intermediate Keras symbolic input/output, to a TF API that does not allow registering custom dispatchers, such as `tf.cond`, `tf.function`, gradient tapes, or `tf.map_fn`. Keras Functional model construction only supports TF API calls that *do* support dispatching, such as `tf.math.add` or `tf.reshape`. Other APIs cannot be called directly on symbolic Kerasinputs/outputs. You can work around this limitation by putting the operation in a custom Keras layer `call` and calling that layer on this symbolic input/output.\n",
     "output_type": "error",
     "traceback": [
      "\u001b[0;31m---------------------------------------------------------------------------\u001b[0m",
      "\u001b[0;31mTypeError\u001b[0m                                 Traceback (most recent call last)",
      "Cell \u001b[0;32mIn[15], line 31\u001b[0m\n\u001b[1;32m     26\u001b[0m \u001b[39melse\u001b[39;00m:\n\u001b[1;32m     27\u001b[0m     model\u001b[39m.\u001b[39mcompile(optimizer\u001b[39m=\u001b[39m\u001b[39m'\u001b[39m\u001b[39mrmsprop\u001b[39m\u001b[39m'\u001b[39m, \n\u001b[1;32m     28\u001b[0m                   loss\u001b[39m=\u001b[39m[vae_loss, \u001b[39m'\u001b[39m\u001b[39mcategorical_crossentropy\u001b[39m\u001b[39m'\u001b[39m],\n\u001b[1;32m     29\u001b[0m                   loss_weights\u001b[39m=\u001b[39m[\u001b[39m1.0\u001b[39m, \u001b[39m20.0\u001b[39m])\n\u001b[0;32m---> 31\u001b[0m     model\u001b[39m.\u001b[39;49mfit(x\u001b[39m=\u001b[39;49mx_train, \n\u001b[1;32m     32\u001b[0m               y\u001b[39m=\u001b[39;49m[x_train, y_train_cat],\n\u001b[1;32m     33\u001b[0m               epochs\u001b[39m=\u001b[39;49m\u001b[39m2\u001b[39;49m,\n\u001b[1;32m     34\u001b[0m               shuffle\u001b[39m=\u001b[39;49m\u001b[39mTrue\u001b[39;49;00m,\n\u001b[1;32m     35\u001b[0m               batch_size\u001b[39m=\u001b[39;49mbatch_size,\n\u001b[1;32m     36\u001b[0m               validation_data\u001b[39m=\u001b[39;49m(x_test, [x_test, y_test_cat]), verbose\u001b[39m=\u001b[39;49m\u001b[39m2\u001b[39;49m)\n",
      "File \u001b[0;32m~/anaconda3/envs/bml/lib/python3.10/site-packages/keras/src/utils/traceback_utils.py:70\u001b[0m, in \u001b[0;36mfilter_traceback.<locals>.error_handler\u001b[0;34m(*args, **kwargs)\u001b[0m\n\u001b[1;32m     67\u001b[0m     filtered_tb \u001b[39m=\u001b[39m _process_traceback_frames(e\u001b[39m.\u001b[39m__traceback__)\n\u001b[1;32m     68\u001b[0m     \u001b[39m# To get the full stack trace, call:\u001b[39;00m\n\u001b[1;32m     69\u001b[0m     \u001b[39m# `tf.debugging.disable_traceback_filtering()`\u001b[39;00m\n\u001b[0;32m---> 70\u001b[0m     \u001b[39mraise\u001b[39;00m e\u001b[39m.\u001b[39mwith_traceback(filtered_tb) \u001b[39mfrom\u001b[39;00m \u001b[39mNone\u001b[39;00m\n\u001b[1;32m     71\u001b[0m \u001b[39mfinally\u001b[39;00m:\n\u001b[1;32m     72\u001b[0m     \u001b[39mdel\u001b[39;00m filtered_tb\n",
      "File \u001b[0;32m/var/folders/n0/8qdnw4t14hv0q718kc5vs8d80000gr/T/__autograph_generated_filecwcwcfbs.py:15\u001b[0m, in \u001b[0;36mouter_factory.<locals>.inner_factory.<locals>.tf__train_function\u001b[0;34m(iterator)\u001b[0m\n\u001b[1;32m     13\u001b[0m \u001b[39mtry\u001b[39;00m:\n\u001b[1;32m     14\u001b[0m     do_return \u001b[39m=\u001b[39m \u001b[39mTrue\u001b[39;00m\n\u001b[0;32m---> 15\u001b[0m     retval_ \u001b[39m=\u001b[39m ag__\u001b[39m.\u001b[39mconverted_call(ag__\u001b[39m.\u001b[39mld(step_function), (ag__\u001b[39m.\u001b[39mld(\u001b[39mself\u001b[39m), ag__\u001b[39m.\u001b[39mld(iterator)), \u001b[39mNone\u001b[39;00m, fscope)\n\u001b[1;32m     16\u001b[0m \u001b[39mexcept\u001b[39;00m:\n\u001b[1;32m     17\u001b[0m     do_return \u001b[39m=\u001b[39m \u001b[39mFalse\u001b[39;00m\n",
      "\u001b[0;31mTypeError\u001b[0m: in user code:\n\n    File \"/Users/CVC/anaconda3/envs/bml/lib/python3.10/site-packages/keras/src/engine/training.py\", line 1338, in train_function  *\n        return step_function(self, iterator)\n    File \"/Users/CVC/anaconda3/envs/bml/lib/python3.10/site-packages/keras/src/engine/training.py\", line 1322, in step_function  **\n        outputs = model.distribute_strategy.run(run_step, args=(data,))\n    File \"/Users/CVC/anaconda3/envs/bml/lib/python3.10/site-packages/keras/src/engine/training.py\", line 1303, in run_step  **\n        outputs = model.train_step(data)\n    File \"/Users/CVC/anaconda3/envs/bml/lib/python3.10/site-packages/keras/src/engine/training.py\", line 1081, in train_step\n        loss = self.compute_loss(x, y, y_pred, sample_weight)\n    File \"/Users/CVC/anaconda3/envs/bml/lib/python3.10/site-packages/keras/src/engine/training.py\", line 1139, in compute_loss\n        return self.compiled_loss(\n    File \"/Users/CVC/anaconda3/envs/bml/lib/python3.10/site-packages/keras/src/engine/compile_utils.py\", line 282, in __call__\n        metric_obj.update_state(\n    File \"/Users/CVC/anaconda3/envs/bml/lib/python3.10/site-packages/keras/src/utils/metrics_utils.py\", line 77, in decorated\n        update_op = update_state_fn(*args, **kwargs)\n    File \"/Users/CVC/anaconda3/envs/bml/lib/python3.10/site-packages/keras/src/metrics/base_metric.py\", line 140, in update_state_fn\n        return ag_update_state(*args, **kwargs)\n    File \"/Users/CVC/anaconda3/envs/bml/lib/python3.10/site-packages/keras/src/metrics/base_metric.py\", line 509, in update_state  **\n        sample_weight = tf.__internal__.ops.broadcast_weights(\n    File \"/Users/CVC/anaconda3/envs/bml/lib/python3.10/site-packages/keras/src/engine/keras_tensor.py\", line 285, in __array__\n        raise TypeError(\n\n    TypeError: You are passing KerasTensor(type_spec=TensorSpec(shape=(), dtype=tf.float32, name=None), name='Placeholder:0', description=\"created by layer 'tf.cast_3'\"), an intermediate Keras symbolic input/output, to a TF API that does not allow registering custom dispatchers, such as `tf.cond`, `tf.function`, gradient tapes, or `tf.map_fn`. Keras Functional model construction only supports TF API calls that *do* support dispatching, such as `tf.math.add` or `tf.reshape`. Other APIs cannot be called directly on symbolic Kerasinputs/outputs. You can work around this limitation by putting the operation in a custom Keras layer `call` and calling that layer on this symbolic input/output.\n"
     ]
    }
   ],
   "source": [
    "import torch.nn.functional as F\n",
    "\n",
    "def vae_loss(x, t_decoded, t_mean, t_log_var):\n",
    "    '''\n",
    "    Negative variational lower bound used as loss function for \n",
    "    training the variational autoencoder on the MNIST dataset.\n",
    "    '''\n",
    "    # Reconstruction loss\n",
    "    rc_loss = F.binary_cross_entropy_with_logits(\n",
    "        t_decoded, x.view(-1, 784), reduction='sum')\n",
    "    \n",
    "    # Regularization term (KL divergence)\n",
    "    kl_loss = -0.5 * torch.sum(1 + t_log_var - t_mean.pow(2) - t_log_var.exp())\n",
    "    return rc_loss + kl_loss\n",
    "\n",
    "if use_pretrained:\n",
    "    checkpoint = torch.load('models/vae-opt/vae-predictor-softmax.pth')\n",
    "    model.load_state_dict(checkpoint['model_state_dict'])\n",
    "\n",
    "else:\n",
    "    rw, cw = 1.0, 20.0\n",
    "    log_interval = 2\n",
    "    optimizer = optim.Adam(model.parameters(), lr=1e-3)\n",
    "    for epoch in num_epochs:\n",
    "        train(epoch, model, train_loader, optimizer, \n",
    "            log_interval=log_interval, \n",
    "            reconstruction_weight=rw, \n",
    "            classification_weight=cw)\n",
    "        val(model, test_loader, reconstruction_weight=rw, \n",
    "                                classification_weight=cw)"
   ]
  },
  {
   "cell_type": "markdown",
   "metadata": {},
   "source": [
    "## Results\n",
    "\n",
    "### Latent space\n",
    "\n",
    "This sections addresses the question \n",
    "\n",
    "> How does joint training with a predictor change the latent space of a variational autoencoder? \n",
    "\n",
    "To answer, three models have been trained:\n",
    "\n",
    "- A VAE as described above but without a predictor (`model_predictor_off`).\n",
    "- A VAE jointly trained with a classifier as predictor (`model_predictor_softmax`). This is the model described above where the predictor predicts the probabilities of labels 0-9 from encoded MNIST images.\n",
    "- A VAE as described above but jointly trained with a regressor as predictor (`model_predictor_linear`). The predictor of this model is trained to predict digit values on a continuous scale i.e. predictions are floating point numbers that can also be less than 0 and greater than 9. See also `create_predictor_linear` in [variational_autoencoder_opt_util.py](variational_autoencoder_opt_util.py)."
   ]
  },
  {
   "cell_type": "code",
   "execution_count": null,
   "metadata": {},
   "outputs": [],
   "source": [
    "model_predictor_softmax = model\n",
    "\n",
    "model_predictor_linear = load_model('models/vae-opt/vae-predictor-linear.h5', \n",
    "                                    custom_objects={'vae_loss': vae_loss})\n",
    "model_predictor_off = load_model('models/vae-opt/vae-predictor-off.h5', \n",
    "                                 custom_objects={'vae_loss': vae_loss})"
   ]
  },
  {
   "cell_type": "markdown",
   "metadata": {},
   "source": [
    "The following plots show the latent spaces of these three models and the distribution of the validation dataset `x_test` in these spaces. Validation data points are colored by their label."
   ]
  },
  {
   "cell_type": "code",
   "execution_count": null,
   "metadata": {},
   "outputs": [],
   "source": [
    "import matplotlib.pyplot as plt\n",
    "\n",
    "%matplotlib inline\n",
    "\n",
    "def encode(x, model):\n",
    "    return model.get_layer('encoder').predict(x)[0]\n",
    "\n",
    "ts = [encode(x_test, model_predictor_off),\n",
    "      encode(x_test, model_predictor_softmax),\n",
    "      encode(x_test, model_predictor_linear)]\n",
    "\n",
    "titles = ['VAE latent space without predictor',\n",
    "          'VAE latent space with classifier',\n",
    "          'VAE latent space with regressor']\n",
    "\n",
    "fig = plt.figure(figsize=(15, 4))\n",
    "cmap = plt.get_cmap('viridis', 10)\n",
    "\n",
    "for i, t in enumerate(ts):\n",
    "    plt.subplot(1, 3, i+1)\n",
    "    im = plt.scatter(t[:, 0], t[:, 1], c=y_test, \n",
    "                     cmap=cmap, \n",
    "                     vmin=-0.5, vmax=9.5, \n",
    "                     marker='o', s=0.4)\n",
    "    plt.xlim(-4, 4)\n",
    "    plt.ylim(-4, 4)\n",
    "    plt.title(titles[i])\n",
    "\n",
    "fig.subplots_adjust(right=0.8)\n",
    "fig.colorbar(im, fig.add_axes([0.82, 0.13, 0.02, 0.74]), ticks=range(10));"
   ]
  },
  {
   "cell_type": "markdown",
   "metadata": {},
   "source": [
    "One can clearly see that the latent space of models with a predictor (middle and right plot) has more structure i.e. less overlap of regions with different labels than the latent space of the model without a predictor (left plot). Furthermore, when the predictor is a regressor it establishes a gradient in latent space. The right plot clearly shows a gradient from upper-right (lower vaues) to lower-left (higher values). \n",
    "\n",
    "This is exactly what the authors of the paper wanted to achieve: additionally organizing the latent space w.r.t. certain continuous properties so that gradient-based navigation into regions of desired properties becomes possible. If you want to train a model yourself with a regressor as predictor you should make the following modifications to the setup above:"
   ]
  },
  {
   "cell_type": "code",
   "execution_count": null,
   "metadata": {},
   "outputs": [],
   "source": [
    "# ...\n",
    "predictor = create_predictor_linear(latent_dim)\n",
    "# ...\n",
    "\n",
    "model.compile(optimizer='rmsprop', \n",
    "              loss=[vae_loss, 'mean_squared_error'],\n",
    "              loss_weights=[1.0, 20.0])\n",
    "\n",
    "model.fit(x=x_train, \n",
    "          y=[x_train, y_train_cat],\n",
    "          epochs=15,\n",
    "          shuffle=True,\n",
    "          batch_size=batch_size,\n",
    "          validation_data=(x_test, [x_test, y_test_cat]))"
   ]
  },
  {
   "cell_type": "markdown",
   "metadata": {},
   "source": [
    "Note that in the case of the MNIST dataset the latent space in the left plot is already sufficiently organized to navigate into regions of desired labels. However, this is not the case for the chemical compound dataset (see paper for details) so that further structuring is required. For the MNIST dataset, the goal is merely to demonstrate that further structuring is possible too. In the following we will use the model that uses a classifier as predictor i.e. the model corresponding to the middle plot."
   ]
  },
  {
   "cell_type": "markdown",
   "metadata": {},
   "source": [
    "### Optimization objectives\n",
    "\n",
    "> How can useful optimization objectives be designed?\n",
    "\n",
    "First of all, the optimization objective must be a function of the desired target label in addition to latent variable $\\mathbf{t}$. For example, if the desired target label is 5 the optimization objective must have an optimum in that region of the latent space where images with a 5 are located. Also remember that the variational distributions i.e. the distributions of codes in latent space have been regularized to be close to the standard normal distribution during model training (see *regularization term* in `vae_loss`). This regularization term should also be considered in the optimization objective to avoid directing search too far from the origin.\n",
    "\n",
    "Hence the optimization objective should not only reflect the probability that a sample corresponds to an image of desired target label but also the standard normal probability distribution. In the following, we will use an optimization objective $f$ that is the negative logarithm of the product of these two terms:\n",
    "\n",
    "$$\n",
    "f(\\mathbf{t}, target) = - \\log p(y=target \\lvert \\mathbf{t}) - \\log \\mathcal{N}(\\mathbf{t} \\lvert \\mathbf{0}, \\mathbf{I}) \\tag{1}\n",
    "$$\n",
    "\n",
    "where $y$ follows a categorical distribution and $p(y=target \\lvert \\mathbf{t})$ is the probability that $y$ has the desired target value given latent vector $\\mathbf{t}$. I'll show two alternatives for computing $p(y=target \\lvert \\mathbf{t})$. The first alternative simply uses the output of the predictor. The corresponding optimization objective is visualized in the following figure."
   ]
  },
  {
   "cell_type": "code",
   "execution_count": null,
   "metadata": {},
   "outputs": [],
   "source": [
    "from matplotlib.colors import LogNorm\n",
    "from scipy.stats import multivariate_normal\n",
    "\n",
    "predictor = model.get_layer('predictor')\n",
    "\n",
    "rx, ry = np.arange(-4, 4, 0.10), np.arange(-4, 4, 0.10)\n",
    "gx, gy = np.meshgrid(rx, ry)\n",
    "\n",
    "t_flat = np.c_[gx.ravel(), gy.ravel()]\n",
    "y_flat = predictor.predict(t_flat)\n",
    "\n",
    "mvn = multivariate_normal(mean=[0, 0], cov=[[1, 0], [0, 1]])\n",
    "nll_prior = -mvn.logpdf(t_flat).reshape(-1, 1)\n",
    "\n",
    "def nll_predict(i):\n",
    "    '''Optimization objective based on predictor output.'''\n",
    "    return nll_prior - np.log(y_flat[:,i] + 1e-8).reshape(-1, 1)\n",
    "\n",
    "plot_nll(gx, gy, nll_predict)"
   ]
  },
  {
   "cell_type": "markdown",
   "metadata": {},
   "source": [
    "One can clearly see how the minima in these plots overlap with the different target value regions in the previous figure (see section [Latent space](#Latent-space)). We could now use a gradient-based optimizer for navigating into regions of high log-likelihood i.e. low negative log-likelihood and sample within that region to conditionally generate new digits of the desired target value.\n",
    "\n",
    "Another alternative is to design an optimization objective that can also include \"external\" results. To explain, let's assume for a moment that we are again in the latent space of chemical compounds. External results in this context can mean experimental results or externally computed results obtained for new compounds sampled from latent space. For example, experimental results can come from expensive drug discovery experiments and externally computed results from computational chemistry software.\n",
    "\n",
    "For working with external results we can use a Gaussian process model (a regression model) initialized with samples from the training set and let a Bayesian optimization algorithm propose new samples from latent space. Then we gather external results for these proposals and update the Gaussian process model with it. Based on the updated model, Bayesian optimization can now propose new samples. A Bayesian optimization approach is especially useful if experimental results are expensive to obtain as it is designed to optimize the objective in a minimum number of steps. This should answer the question\n",
    "\n",
    "> How can application of Bayesian optimization methods be justified?\n",
    "\n",
    "But how can we transfer these ideas to the MNIST dataset? One option is to decode samples from latent space to real images and then let a separate MNIST image classifier compute the probability that a decoded image shows a digit equal to the desired target. For that purpose we use a small CNN that was trained to achieve 99.2% validation accuracy on `x_test`, enough for our purposes. "
   ]
  },
  {
   "cell_type": "code",
   "execution_count": null,
   "metadata": {},
   "outputs": [],
   "source": [
    "if use_pretrained:\n",
    "    classifier = load_model('models/vae-opt/classifier.h5')\n",
    "else:\n",
    "    classifier = create_classifier()\n",
    "    classifier.compile(optimizer='rmsprop', \n",
    "                       loss='categorical_crossentropy', \n",
    "                       metrics=['accuracy'])\n",
    "\n",
    "    classifier.fit(x_train, \n",
    "                   y_train_cat, \n",
    "                   epochs=5, \n",
    "                   shuffle=True,\n",
    "                   batch_size=batch_size, \n",
    "                   validation_data=(x_test, y_test_cat), verbose=2)"
   ]
  },
  {
   "cell_type": "markdown",
   "metadata": {},
   "source": [
    "If we combine the negative log-likelihood computed with the separate image classifier with the regularization term mentioned before, we obtain the following optimization objective:"
   ]
  },
  {
   "cell_type": "code",
   "execution_count": null,
   "metadata": {},
   "outputs": [],
   "source": [
    "decoder = model.get_layer('decoder')\n",
    "\n",
    "# Decode latent vector into image\n",
    "d_flat = decoder.predict(t_flat)\n",
    "\n",
    "# Predict probabilities with separate classifier\n",
    "y_flat = classifier.predict(d_flat)\n",
    "\n",
    "def nll_decode_classify(i):\n",
    "    '''Optimization objective based on separate image classifier output.'''\n",
    "    return nll_prior - np.log(y_flat[:,i] + 1e-8).reshape(-1, 1)\n",
    "\n",
    "plot_nll(gx, gy, nll_decode_classify)"
   ]
  },
  {
   "cell_type": "markdown",
   "metadata": {},
   "source": [
    "The locations of the minima closely match those of the previous optimization objective but the new optimization objective is more fuzzy. It also shows moderately low negative log-likelihood in regions outside of the desired target as well as in regions that are sparsely populated by validation examples. Anyway, let's use it and see if we can achieve reasonable results."
   ]
  },
  {
   "cell_type": "markdown",
   "metadata": {},
   "source": [
    "### Bayesian optimization\n",
    "\n",
    "For Bayesian optimization, we use [GPyOpt](http://sheffieldml.github.io/GPyOpt/) with more or less default settings and constrain the the search space as given by `bounds` below. Note that the underlying Gaussian process model is initialized with only two random samples from latent space."
   ]
  },
  {
   "cell_type": "code",
   "execution_count": null,
   "metadata": {},
   "outputs": [],
   "source": [
    "import GPyOpt\n",
    "from GPyOpt.methods import BayesianOptimization\n",
    "\n",
    "def nll(t, target):\n",
    "    '''\n",
    "    Bayesian optimization objective.\n",
    "    '''\n",
    "    # Decode latent vector into image\n",
    "    decoded = decoder.predict(t)\n",
    "    # Predict probabilities with separate classifier\n",
    "    c_probs = classifier.predict(decoded)\n",
    "\n",
    "    nll_prior = -mvn.logpdf(t).reshape(-1, 1)\n",
    "    nll_pred = -np.log(c_probs[:,target] + 1e-8).reshape(-1, 1)\n",
    "    \n",
    "    return nll_prior + nll_pred\n",
    "\n",
    "bounds = [{'name': 't1', 'type': 'continuous', 'domain': (-4.0, 4.0)},\n",
    "          {'name': 't2', 'type': 'continuous', 'domain': (-4.0, 4.0)}]\n",
    "\n",
    "def optimizer_for(target):\n",
    "    \n",
    "    def nll_target(t):\n",
    "        return nll(t, target)\n",
    "\n",
    "    return BayesianOptimization(f=nll_target, \n",
    "                                domain=bounds,\n",
    "                                model_type='GP',\n",
    "                                acquisition_type ='EI',\n",
    "                                acquisition_jitter = 0.01,\n",
    "                                initial_design_numdata = 2,\n",
    "                                exact_feval=False)"
   ]
  },
  {
   "cell_type": "markdown",
   "metadata": {},
   "source": [
    "We start by running Bayesian optimization for a desired target value of 4 and then visualize the Gaussian process posterior mean, variance and the acquisition function using the built-in `plot_acquisition()` method."
   ]
  },
  {
   "cell_type": "code",
   "execution_count": null,
   "metadata": {},
   "outputs": [],
   "source": [
    "optimizer = optimizer_for(target=4)\n",
    "optimizer.run_optimization(max_iter=50)\n",
    "optimizer.plot_acquisition()"
   ]
  },
  {
   "cell_type": "markdown",
   "metadata": {},
   "source": [
    "By comparing with previous figures, we can see that most samples are located around the minimum corresponding to target value 4 (left plot). The acquisition function has high values in this region (right plot). Because Bayesian optimization makes a compromise between *exploration* of regions with high uncertainty and *exploitation* of regions with (locally) optimal values high acquisition function values also exist in regions outside the desired target value. This is also the reason why some samples are broadly scattered across the search space. We finally have to verify that the samples with the lowest optimization objective values actually correspond to images with number 4."
   ]
  },
  {
   "cell_type": "code",
   "execution_count": null,
   "metadata": {},
   "outputs": [],
   "source": [
    "def plot_top(optimizer, num=10):\n",
    "    top_idx = np.argsort(optimizer.Y, axis=0).ravel()\n",
    "    top_y = optimizer.Y[top_idx]\n",
    "    top_x = optimizer.X[top_idx]\n",
    "    top_dec = np.squeeze(decoder.predict(top_x), axis=-1)\n",
    "\n",
    "    plt.figure(figsize=(20, 2))\n",
    "    for i in range(num):\n",
    "        plt.subplot(1, num, i + 1)\n",
    "        plt.imshow(top_dec[i], cmap='Greys_r')\n",
    "        plt.title(f'{top_y[i,0]:.2f}')\n",
    "        plt.axis('off')"
   ]
  },
  {
   "cell_type": "code",
   "execution_count": null,
   "metadata": {},
   "outputs": [],
   "source": [
    "plot_top(optimizer)"
   ]
  },
  {
   "cell_type": "markdown",
   "metadata": {},
   "source": [
    "Indeed, they do! The numbers on top of the images are the optimization objective values of the corresponding points in latent space. To generate more images of desired target value we also could select the top scoring samples and continue sampling in a more or less narrow region around them (not shown here). How does conditional sampling for other desired target values work?"
   ]
  },
  {
   "cell_type": "code",
   "execution_count": null,
   "metadata": {},
   "outputs": [],
   "source": [
    "optimizer = optimizer_for(target=3)\n",
    "optimizer.run_optimization(max_iter=50)\n",
    "plot_top(optimizer)"
   ]
  },
  {
   "cell_type": "code",
   "execution_count": null,
   "metadata": {},
   "outputs": [],
   "source": [
    "optimizer = optimizer_for(target=2)\n",
    "optimizer.run_optimization(max_iter=50)\n",
    "plot_top(optimizer)"
   ]
  },
  {
   "cell_type": "code",
   "execution_count": null,
   "metadata": {},
   "outputs": [],
   "source": [
    "optimizer = optimizer_for(target=5)\n",
    "optimizer.run_optimization(max_iter=50)\n",
    "plot_top(optimizer)"
   ]
  },
  {
   "cell_type": "code",
   "execution_count": null,
   "metadata": {},
   "outputs": [],
   "source": [
    "optimizer = optimizer_for(target=9)\n",
    "optimizer.run_optimization(max_iter=50)\n",
    "plot_top(optimizer)"
   ]
  },
  {
   "cell_type": "markdown",
   "metadata": {},
   "source": [
    "This looks pretty good! Also note how for targets 3 and 5 the negative log-likelihood significantly increases for images that are hard to be recognized as their desired targets."
   ]
  },
  {
   "cell_type": "markdown",
   "metadata": {},
   "source": [
    "## Alternatives\n",
    "\n",
    "> What are possible alternatives to this approach?\n",
    "\n",
    "The approach presented here is one possible approach for conditionally generating images i.e. images with desired target values. In the case of MNIST images, this is actually a very expensive approach. A conditional variational autoencoder<sup>[3]</sup> (CVAE) would be a much better choice here. Anyway, the goal was to demonstrate the approach taken in the paper<sup>[1]</sup> and it worked reasonably well on the MNIST dataset too.\n",
    "\n",
    "Another interesting approach is described in \\[4\\]. The proposed approach identifies regions in latent space with desired properties without training the corresponding models with these properties in advance. This should help to prevent expensive model retraining and allows post-hoc learning of so-called *latent constraints*, value functions that identify regions in latent space that generate outputs with desired properties. Definitely one of my next papers to read."
   ]
  },
  {
   "cell_type": "markdown",
   "metadata": {},
   "source": [
    "## References\n",
    "\n",
    "- \\[1\\] Rafael Gómez-Bombarelli et. al. [Automatic chemical design using a data-driven continuous representation of molecules](https://arxiv.org/abs/1610.02415).  \n",
    "- \\[2\\] Diederik P Kingma, Max Welling [Auto-Encoding Variational Bayes](https://arxiv.org/abs/1312.6114).  \n",
    "- \\[3\\] Carl Doersch [Tutorial on Variational Autoencoders](https://arxiv.org/abs/1606.05908).  \n",
    "- \\[4\\] Jesse Engel et. al. [Latent Constraints: Learning to Generate Conditionally from Unconditional Generative Models](https://arxiv.org/abs/1711.05772).  "
   ]
  }
 ],
 "metadata": {
  "kernelspec": {
   "display_name": "Python 3",
   "language": "python",
   "name": "python3"
  },
  "language_info": {
   "codemirror_mode": {
    "name": "ipython",
    "version": 3
   },
   "file_extension": ".py",
   "mimetype": "text/x-python",
   "name": "python",
   "nbconvert_exporter": "python",
   "pygments_lexer": "ipython3",
   "version": "3.6.9"
  }
 },
 "nbformat": 4,
 "nbformat_minor": 2
}
